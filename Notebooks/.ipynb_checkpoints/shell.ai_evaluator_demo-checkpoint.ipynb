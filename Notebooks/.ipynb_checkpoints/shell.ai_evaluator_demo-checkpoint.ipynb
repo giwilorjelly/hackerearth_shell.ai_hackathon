{
 "cells": [
  {
   "cell_type": "markdown",
   "metadata": {
    "id": "yfHzailnWyO0"
   },
   "source": [
    "###Cloning Repository"
   ]
  },
  {
   "cell_type": "code",
   "execution_count": 1,
   "metadata": {
    "colab": {
     "base_uri": "https://localhost:8080/",
     "height": 510
    },
    "executionInfo": {
     "elapsed": 3249,
     "status": "ok",
     "timestamp": 1602444181922,
     "user": {
      "displayName": "Vansh Panjabi",
      "photoUrl": "",
      "userId": "01156868300689287117"
     },
     "user_tz": -330
    },
    "id": "Yk-3Iikm26ZJ",
    "outputId": "ef371fc3-84d7-4dba-f56f-665b34184823"
   },
   "outputs": [
    {
     "name": "stdout",
     "output_type": "stream",
     "text": [
      "Cloning into 'hackerearth_shell.ai_hackathon'...\n",
      "remote: Enumerating objects: 6, done.\u001b[K\n",
      "remote: Counting objects: 100% (6/6), done.\u001b[K\n",
      "remote: Compressing objects: 100% (3/3), done.\u001b[K\n",
      "remote: Total 6 (delta 1), reused 4 (delta 1), pack-reused 0\u001b[K\n",
      "Unpacking objects: 100% (6/6), done.\n",
      "Archive:  /content/hackerearth_shell.ai_hackathon/shell.ai_dataset.zip\n",
      "  inflating: /content/hackerearth_shell.ai_hackathon/Shell_Hackathon_Dataset.zip  \n",
      "  inflating: /content/hackerearth_shell.ai_hackathon/Wind_Farm_Evaluator.zip  \n",
      "  inflating: /content/hackerearth_shell.ai_hackathon/aep_algo.pdf  \n",
      "  inflating: /content/hackerearth_shell.ai_hackathon/data_interpret.pdf  \n",
      "  inflating: /content/hackerearth_shell.ai_hackathon/prob-statement.pdf  \n",
      "  inflating: /content/hackerearth_shell.ai_hackathon/wake_model.pdf  \n",
      "Archive:  /content/hackerearth_shell.ai_hackathon/Shell_Hackathon_Dataset.zip\n",
      "   creating: /content/hackerearth_shell.ai_hackathon/Shell_Hackathon Dataset/\n",
      "  inflating: /content/hackerearth_shell.ai_hackathon/Shell_Hackathon Dataset/power_curve.csv  \n",
      "   creating: /content/hackerearth_shell.ai_hackathon/Shell_Hackathon Dataset/Wind Data/\n",
      "  inflating: /content/hackerearth_shell.ai_hackathon/Shell_Hackathon Dataset/Wind Data/wind_data_2008.csv  \n",
      "  inflating: /content/hackerearth_shell.ai_hackathon/Shell_Hackathon Dataset/Wind Data/wind_data_2014.csv  \n",
      "  inflating: /content/hackerearth_shell.ai_hackathon/Shell_Hackathon Dataset/Wind Data/wind_data_2013.csv  \n",
      "  inflating: /content/hackerearth_shell.ai_hackathon/Shell_Hackathon Dataset/Wind Data/wind_data_2017.csv  \n",
      "  inflating: /content/hackerearth_shell.ai_hackathon/Shell_Hackathon Dataset/Wind Data/wind_data_2009.csv  \n",
      "  inflating: /content/hackerearth_shell.ai_hackathon/Shell_Hackathon Dataset/Wind Data/wind_data_2015.csv  \n",
      "  inflating: /content/hackerearth_shell.ai_hackathon/Shell_Hackathon Dataset/Wind Data/wind_data_2007.csv  \n",
      "  inflating: /content/hackerearth_shell.ai_hackathon/Shell_Hackathon Dataset/turbine_loc_test.csv  \n",
      "Archive:  /content/hackerearth_shell.ai_hackathon/Wind_Farm_Evaluator.zip\n",
      "  inflating: /content/hackerearth_shell.ai_hackathon/Farm_Evaluator.m  \n",
      "  inflating: /content/hackerearth_shell.ai_hackathon/Farm_Evaluator.py  \n",
      "  inflating: /content/hackerearth_shell.ai_hackathon/Farm_Evaluator_Vec.py  \n"
     ]
    }
   ],
   "source": [
    "!git clone https://github.com/giwilorjelly/hackerearth_shell.ai_hackathon \n",
    "!unzip /content/hackerearth_shell.ai_hackathon/shell.ai_dataset.zip -d /content/hackerearth_shell.ai_hackathon\n",
    "!unzip /content/hackerearth_shell.ai_hackathon/Shell_Hackathon_Dataset.zip -d /content/hackerearth_shell.ai_hackathon\n",
    "!unzip /content/hackerearth_shell.ai_hackathon/Wind_Farm_Evaluator.zip -d /content/hackerearth_shell.ai_hackathon"
   ]
  },
  {
   "cell_type": "markdown",
   "metadata": {
    "id": "fLumxc6GW60v"
   },
   "source": [
    "###Importing Script"
   ]
  },
  {
   "cell_type": "code",
   "execution_count": 3,
   "metadata": {
    "colab": {
     "base_uri": "https://localhost:8080/",
     "height": 35
    },
    "executionInfo": {
     "elapsed": 2039,
     "status": "ok",
     "timestamp": 1602444223356,
     "user": {
      "displayName": "Vansh Panjabi",
      "photoUrl": "",
      "userId": "01156868300689287117"
     },
     "user_tz": -330
    },
    "id": "_Vnbo8FL2_-q",
    "outputId": "be6357c2-131d-4ee7-debb-857cbd8feffb"
   },
   "outputs": [
    {
     "data": {
      "application/vnd.google.colaboratory.intrinsic+json": {
       "type": "string"
      },
      "text/plain": [
       "'/content/Farm_Evaluator_Vec.py'"
      ]
     },
     "execution_count": 3,
     "metadata": {
      "tags": []
     },
     "output_type": "execute_result"
    }
   ],
   "source": [
    "#copying script to current directory\n",
    "from shutil import copyfile\n",
    "import os\n",
    "copyfile('/content/hackerearth_shell.ai_hackathon/Farm_Evaluator_Vec.py',\n",
    "         os.path.join(os.getcwd(),'Farm_Evaluator_Vec.py'))"
   ]
  },
  {
   "cell_type": "code",
   "execution_count": 4,
   "metadata": {
    "executionInfo": {
     "elapsed": 769,
     "status": "ok",
     "timestamp": 1602444231758,
     "user": {
      "displayName": "Vansh Panjabi",
      "photoUrl": "",
      "userId": "01156868300689287117"
     },
     "user_tz": -330
    },
    "id": "mIotjoU3XHxX"
   },
   "outputs": [],
   "source": [
    "import Farm_Evaluator_Vec as fev"
   ]
  },
  {
   "cell_type": "markdown",
   "metadata": {
    "id": "Q6AAEuPGYojM"
   },
   "source": [
    "###Calculating AEP for turbine_loc_test"
   ]
  },
  {
   "cell_type": "markdown",
   "metadata": {
    "id": "Pydmq45bZPYH"
   },
   "source": [
    "NAME\n",
    "    Farm_Evalautor.py\n",
    "    \n",
    "PYTHON VERSION   \n",
    "    3.7.3 \n",
    "    \n",
    "DESCRIPTION\n",
    "    Calculates Annual Energy Production (AEP) of a Wind Farm\n",
    "    ============================================================    \n",
    "    \n",
    "    This is vectorzied version of Farm_Evalautor.py. \n",
    "    Farm_Evalautor_Vec.py is a python file that calculates AEP (GWh)\n",
    "    of a certain arrangement of wind turbines in a farm, under \n",
    "    given annual wind conditions. \n",
    "    \n",
    "    The code in this script for wake-effect modeling is based on\n",
    "    standard Jensen (PARK) model. \n",
    "    I. Katic, J. Hojstrup and N. Jensen, \"A simple model for cluster \n",
    "    efficiency,\" in European Wind Energy Association Conference and \n",
    "    Exhibition, 1986.\n",
    "    \n",
    "    As its inputs, the code takes three data files containing info \n",
    "    about:\n",
    "    - Turbine Locations\n",
    "    - Turbine Power Curve\n",
    "    - Annual Wind Conditions\n",
    "    \n",
    "OPTIMIZATION USAGE\n",
    "    This vectorized version is faster than unvectorized version\n",
    "    Farm_Evalautor.py. Due to speed benefits, we advise you to use \n",
    "    the function getAEP in this script while developing the optimizer. \n",
    "    =============================================================\n",
    "    \n",
    "    One way to use getAEP function as AEP evaluator while optimizing is:\n",
    "    - STEP 1. Import the relevant function from Farm_Evalautor_Vec. \n",
    "              from Farm_Evalautor_Vec import getTurbLoc, loadPowerCurve, \n",
    "              binWindResourceData, preProcessing, getAEP\n",
    "    - STEP 2. Set Turbine Radius to 50.0. First arg of getAEP\n",
    "    - STEP 3. Load Turbine Locations. Using function getTurbLoc\n",
    "    - STEP 4. Load Power Curve. Using function loadPowerCurve\n",
    "    - STEP 5. Load wind instance probabilities. \n",
    "              Using function binWindResourceData\n",
    "    - STEP 6. Perform Preprocessing by calling function preProcessing.\n",
    "              We do preprocessing to avoid same repeating calculations.\n",
    "              Do them once. \n",
    "    - STEP 7. Finally, call function getAEP\n",
    "    \n",
    "    This makes it easy to control the reloading of data and hence achieve\n",
    "    better performance.    "
   ]
  },
  {
   "cell_type": "code",
   "execution_count": null,
   "metadata": {
    "id": "kER_iRsaYh7A"
   },
   "outputs": [],
   "source": [
    "turb_rad = 50.0\n",
    "turb_coords = fev.getTurbLoc('/content/hackerearth_shell.ai_hackathon/Shell_Hackathon Dataset/turbine_loc_test.csv')#turbine locations csv file path\n",
    "power_curve = fev.loadPowerCurve('/content/hackerearth_shell.ai_hackathon/Shell_Hackathon Dataset/power_curve.csv')#power curve csv file path\n",
    "wind_inst_freq = fev.binWindResourceData('/content/hackerearth_shell.ai_hackathon/Shell_Hackathon Dataset/Wind Data/wind_data_2007.csv')#wind data file name\n",
    "n_wind_instances, cos_dir, sin_dir, wind_sped_stacked, C_t = fev.preProcessing(power_curve)"
   ]
  },
  {
   "cell_type": "code",
   "execution_count": null,
   "metadata": {
    "colab": {
     "base_uri": "https://localhost:8080/",
     "height": 34
    },
    "executionInfo": {
     "elapsed": 3826,
     "status": "ok",
     "timestamp": 1602434477192,
     "user": {
      "displayName": "Giwil Gidwani",
      "photoUrl": "https://lh4.googleusercontent.com/-gE2Wv_aoAmY/AAAAAAAAAAI/AAAAAAAAWek/BgtsdEEAtxg/s64/photo.jpg",
      "userId": "01860341906430262736"
     },
     "user_tz": -330
    },
    "id": "aZHXl3x5bns5",
    "outputId": "01f02d71-ba67-406f-93fb-3fdf9a4b6bbe"
   },
   "outputs": [
    {
     "name": "stdout",
     "output_type": "stream",
     "text": [
      "AEP for turbine_loc_test on wind_data_2007: 505.4506365966797\n"
     ]
    }
   ],
   "source": [
    "aep = fev.getAEP(turb_rad, turb_coords, power_curve, wind_inst_freq, n_wind_instances, cos_dir, sin_dir, wind_sped_stacked, C_t)\n",
    "print(\"AEP for turbine_loc_test on wind_data_2007:\",aep)"
   ]
  },
  {
   "cell_type": "markdown",
   "metadata": {
    "id": "4a9hdHTucK9C"
   },
   "source": [
    "###Finding Average AEP for Entire Dataset"
   ]
  },
  {
   "cell_type": "code",
   "execution_count": null,
   "metadata": {
    "colab": {
     "base_uri": "https://localhost:8080/",
     "height": 139
    },
    "executionInfo": {
     "elapsed": 3821,
     "status": "ok",
     "timestamp": 1602434477196,
     "user": {
      "displayName": "Giwil Gidwani",
      "photoUrl": "https://lh4.googleusercontent.com/-gE2Wv_aoAmY/AAAAAAAAAAI/AAAAAAAAWek/BgtsdEEAtxg/s64/photo.jpg",
      "userId": "01860341906430262736"
     },
     "user_tz": -330
    },
    "id": "HUKJtmQFc2s-",
    "outputId": "9eb3d955-a6de-4ef5-c7a5-0c70d79810a2"
   },
   "outputs": [
    {
     "name": "stdout",
     "output_type": "stream",
     "text": [
      "/content/hackerearth_shell.ai_hackathon/Shell_Hackathon Dataset/Wind Data/wind_data_2009.csv\n",
      "/content/hackerearth_shell.ai_hackathon/Shell_Hackathon Dataset/Wind Data/wind_data_2007.csv\n",
      "/content/hackerearth_shell.ai_hackathon/Shell_Hackathon Dataset/Wind Data/wind_data_2014.csv\n",
      "/content/hackerearth_shell.ai_hackathon/Shell_Hackathon Dataset/Wind Data/wind_data_2017.csv\n",
      "/content/hackerearth_shell.ai_hackathon/Shell_Hackathon Dataset/Wind Data/wind_data_2008.csv\n",
      "/content/hackerearth_shell.ai_hackathon/Shell_Hackathon Dataset/Wind Data/wind_data_2013.csv\n",
      "/content/hackerearth_shell.ai_hackathon/Shell_Hackathon Dataset/Wind Data/wind_data_2015.csv\n"
     ]
    }
   ],
   "source": [
    "wind_data_files = []\n",
    "for root, dirs, files in os.walk('/content/hackerearth_shell.ai_hackathon/Shell_Hackathon Dataset/Wind Data/'):\n",
    "  for name in files:\n",
    "    filepath = os.path.join(root,name)\n",
    "    print(filepath)\n",
    "    wind_data_files.append(filepath)"
   ]
  },
  {
   "cell_type": "code",
   "execution_count": null,
   "metadata": {
    "id": "4WtRuOmEeGb0"
   },
   "outputs": [],
   "source": [
    "wind_inst_freq_list = [fev.binWindResourceData(filepath) for filepath in wind_data_files]"
   ]
  },
  {
   "cell_type": "code",
   "execution_count": null,
   "metadata": {
    "colab": {
     "base_uri": "https://localhost:8080/",
     "height": 34
    },
    "executionInfo": {
     "elapsed": 4220,
     "status": "ok",
     "timestamp": 1602434477610,
     "user": {
      "displayName": "Giwil Gidwani",
      "photoUrl": "https://lh4.googleusercontent.com/-gE2Wv_aoAmY/AAAAAAAAAAI/AAAAAAAAWek/BgtsdEEAtxg/s64/photo.jpg",
      "userId": "01860341906430262736"
     },
     "user_tz": -330
    },
    "id": "rmy8NhGxfCO5",
    "outputId": "99afbb0e-d968-472b-9b51-fae6c542f420"
   },
   "outputs": [
    {
     "name": "stdout",
     "output_type": "stream",
     "text": [
      "[455.8994137573242, 505.4506365966797, 447.42860229492186, 545.5921376037597, 500.42101501464845, 472.69199798583986, 560.9032571411133]\n"
     ]
    }
   ],
   "source": [
    "aep_list = [fev.getAEP(turb_rad, turb_coords, power_curve, wind_inst_freq_i, n_wind_instances,\n",
    "                       cos_dir, sin_dir, wind_sped_stacked, C_t) for wind_inst_freq_i in wind_inst_freq_list]\n",
    "print(aep_list)\n",
    "#year order [2009,2007, 2014, 2017, 2008, 2013, 2015]"
   ]
  },
  {
   "cell_type": "code",
   "execution_count": null,
   "metadata": {
    "colab": {
     "base_uri": "https://localhost:8080/",
     "height": 34
    },
    "executionInfo": {
     "elapsed": 4215,
     "status": "ok",
     "timestamp": 1602434477612,
     "user": {
      "displayName": "Giwil Gidwani",
      "photoUrl": "https://lh4.googleusercontent.com/-gE2Wv_aoAmY/AAAAAAAAAAI/AAAAAAAAWek/BgtsdEEAtxg/s64/photo.jpg",
      "userId": "01860341906430262736"
     },
     "user_tz": -330
    },
    "id": "fZnOukc1fLGy",
    "outputId": "d1edaaff-7d25-4e9e-bbb0-fa73f9a8b9a1"
   },
   "outputs": [
    {
     "name": "stdout",
     "output_type": "stream",
     "text": [
      "Avg AEP: 498.3410086277553\n"
     ]
    }
   ],
   "source": [
    "print('Avg AEP:',sum(aep_list)/len(aep_list))"
   ]
  },
  {
   "cell_type": "code",
   "execution_count": null,
   "metadata": {
    "id": "UtV_TlXGfZUO"
   },
   "outputs": [],
   "source": []
  }
 ],
 "metadata": {
  "colab": {
   "collapsed_sections": [],
   "name": "shell.ai_evaluator_demo.ipynb",
   "provenance": []
  },
  "kernelspec": {
   "display_name": "Python 3",
   "language": "python",
   "name": "python3"
  },
  "language_info": {
   "codemirror_mode": {
    "name": "ipython",
    "version": 3
   },
   "file_extension": ".py",
   "mimetype": "text/x-python",
   "name": "python",
   "nbconvert_exporter": "python",
   "pygments_lexer": "ipython3",
   "version": "3.8.3"
  }
 },
 "nbformat": 4,
 "nbformat_minor": 1
}
