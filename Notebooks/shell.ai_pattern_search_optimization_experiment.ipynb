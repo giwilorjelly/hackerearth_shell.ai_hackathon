{
 "cells": [
  {
   "cell_type": "markdown",
   "metadata": {
    "id": "yfHzailnWyO0"
   },
   "source": [
    "###Cloning Repository"
   ]
  },
  {
   "cell_type": "code",
   "execution_count": null,
   "metadata": {
    "colab": {
     "base_uri": "https://localhost:8080/",
     "height": 541
    },
    "executionInfo": {
     "elapsed": 2813,
     "status": "ok",
     "timestamp": 1603177391751,
     "user": {
      "displayName": "Giwil Gidwani",
      "photoUrl": "https://lh4.googleusercontent.com/-gE2Wv_aoAmY/AAAAAAAAAAI/AAAAAAAAWek/BgtsdEEAtxg/s64/photo.jpg",
      "userId": "01860341906430262736"
     },
     "user_tz": -330
    },
    "id": "Yk-3Iikm26ZJ",
    "outputId": "42ab342a-4d99-4acc-c8c6-8e96eaa35baf"
   },
   "outputs": [
    {
     "name": "stdout",
     "output_type": "stream",
     "text": [
      "Cloning into 'hackerearth_shell.ai_hackathon'...\n",
      "remote: Enumerating objects: 6, done.\u001b[K\n",
      "remote: Counting objects: 100% (6/6), done.\u001b[K\n",
      "remote: Compressing objects: 100% (3/3), done.\u001b[K\n",
      "remote: Total 6 (delta 1), reused 4 (delta 1), pack-reused 0\u001b[K\n",
      "Unpacking objects: 100% (6/6), done.\n",
      "Archive:  /content/hackerearth_shell.ai_hackathon/shell.ai_dataset.zip\n",
      "  inflating: /content/hackerearth_shell.ai_hackathon/Shell_Hackathon_Dataset.zip  \n",
      "  inflating: /content/hackerearth_shell.ai_hackathon/Wind_Farm_Evaluator.zip  \n",
      "  inflating: /content/hackerearth_shell.ai_hackathon/aep_algo.pdf  \n",
      "  inflating: /content/hackerearth_shell.ai_hackathon/data_interpret.pdf  \n",
      "  inflating: /content/hackerearth_shell.ai_hackathon/prob-statement.pdf  \n",
      "  inflating: /content/hackerearth_shell.ai_hackathon/wake_model.pdf  \n",
      "Archive:  /content/hackerearth_shell.ai_hackathon/Shell_Hackathon_Dataset.zip\n",
      "   creating: /content/hackerearth_shell.ai_hackathon/Shell_Hackathon Dataset/\n",
      "  inflating: /content/hackerearth_shell.ai_hackathon/Shell_Hackathon Dataset/power_curve.csv  \n",
      "   creating: /content/hackerearth_shell.ai_hackathon/Shell_Hackathon Dataset/Wind Data/\n",
      "  inflating: /content/hackerearth_shell.ai_hackathon/Shell_Hackathon Dataset/Wind Data/wind_data_2008.csv  \n",
      "  inflating: /content/hackerearth_shell.ai_hackathon/Shell_Hackathon Dataset/Wind Data/wind_data_2014.csv  \n",
      "  inflating: /content/hackerearth_shell.ai_hackathon/Shell_Hackathon Dataset/Wind Data/wind_data_2013.csv  \n",
      "  inflating: /content/hackerearth_shell.ai_hackathon/Shell_Hackathon Dataset/Wind Data/wind_data_2017.csv  \n",
      "  inflating: /content/hackerearth_shell.ai_hackathon/Shell_Hackathon Dataset/Wind Data/wind_data_2009.csv  \n",
      "  inflating: /content/hackerearth_shell.ai_hackathon/Shell_Hackathon Dataset/Wind Data/wind_data_2015.csv  \n",
      "  inflating: /content/hackerearth_shell.ai_hackathon/Shell_Hackathon Dataset/Wind Data/wind_data_2007.csv  \n",
      "  inflating: /content/hackerearth_shell.ai_hackathon/Shell_Hackathon Dataset/turbine_loc_test.csv  \n",
      "Archive:  /content/hackerearth_shell.ai_hackathon/Wind_Farm_Evaluator.zip\n",
      "  inflating: /content/hackerearth_shell.ai_hackathon/Farm_Evaluator.m  \n",
      "  inflating: /content/hackerearth_shell.ai_hackathon/Farm_Evaluator.py  \n",
      "  inflating: /content/hackerearth_shell.ai_hackathon/Farm_Evaluator_Vec.py  \n"
     ]
    }
   ],
   "source": [
    "!git clone https://github.com/giwilorjelly/hackerearth_shell.ai_hackathon\n",
    "!unzip /content/hackerearth_shell.ai_hackathon/shell.ai_dataset.zip -d /content/hackerearth_shell.ai_hackathon\n",
    "!unzip /content/hackerearth_shell.ai_hackathon/Shell_Hackathon_Dataset.zip -d /content/hackerearth_shell.ai_hackathon\n",
    "!unzip /content/hackerearth_shell.ai_hackathon/Wind_Farm_Evaluator.zip -d /content/hackerearth_shell.ai_hackathon"
   ]
  },
  {
   "cell_type": "markdown",
   "metadata": {
    "id": "fLumxc6GW60v"
   },
   "source": [
    "###Importing Script"
   ]
  },
  {
   "cell_type": "code",
   "execution_count": null,
   "metadata": {
    "colab": {
     "base_uri": "https://localhost:8080/",
     "height": 36
    },
    "executionInfo": {
     "elapsed": 738,
     "status": "ok",
     "timestamp": 1603177391753,
     "user": {
      "displayName": "Giwil Gidwani",
      "photoUrl": "https://lh4.googleusercontent.com/-gE2Wv_aoAmY/AAAAAAAAAAI/AAAAAAAAWek/BgtsdEEAtxg/s64/photo.jpg",
      "userId": "01860341906430262736"
     },
     "user_tz": -330
    },
    "id": "_Vnbo8FL2_-q",
    "outputId": "85dba6fe-4c25-4dc6-c586-a282a97325a7"
   },
   "outputs": [
    {
     "data": {
      "application/vnd.google.colaboratory.intrinsic+json": {
       "type": "string"
      },
      "text/plain": [
       "'/content/Farm_Evaluator_Vec.py'"
      ]
     },
     "execution_count": 2,
     "metadata": {
      "tags": []
     },
     "output_type": "execute_result"
    }
   ],
   "source": [
    "#copying script to current directory\n",
    "from shutil import copyfile\n",
    "import os\n",
    "copyfile('/content/hackerearth_shell.ai_hackathon/Farm_Evaluator_Vec.py',\n",
    "         os.path.join(os.getcwd(),'Farm_Evaluator_Vec.py'))"
   ]
  },
  {
   "cell_type": "code",
   "execution_count": null,
   "metadata": {
    "id": "mIotjoU3XHxX"
   },
   "outputs": [],
   "source": [
    "import Farm_Evaluator_Vec as fev\n",
    "import numpy as np\n",
    "import pandas as pd\n",
    "import matplotlib.pyplot as plt\n",
    "import seaborn as sns\n",
    "%matplotlib inline"
   ]
  },
  {
   "cell_type": "code",
   "execution_count": null,
   "metadata": {
    "id": "qhPSuIXh4Zy7"
   },
   "outputs": [],
   "source": [
    "def penalty(coords,rho1,rho2):\n",
    "  c = np.copy(coords).reshape(50,2)\n",
    "  #finding boundary boundary loss\n",
    "  b_loss = np.sum(np.abs(c[c<50]-50)) + np.sum(np.abs(c[c>3950]-3950))\n",
    "  #finding proximity loss\n",
    "  p_loss=0\n",
    "  for i in range(49):\n",
    "    for j in range(i+1,50):\n",
    "      d = np.linalg.norm(c[i][:]-c[j][:])\n",
    "      if d<400:\n",
    "        p_loss+=d\n",
    "  return rho1*b_loss+rho2*p_loss  "
   ]
  },
  {
   "cell_type": "code",
   "execution_count": null,
   "metadata": {
    "id": "UtV_TlXGfZUO"
   },
   "outputs": [],
   "source": [
    "def optimize(turb_coords,aep,step,min_step,step_decay_rate):\n",
    "  best_aep = aep\n",
    "  last_aep = aep\n",
    "  turb_coords = turb_coords.reshape(100)\n",
    "  rho1 = 1\n",
    "  rho2 = 1\n",
    "  directions = np.ones(100)\n",
    "  temp_coords = np.copy(turb_coords)\n",
    "  while step>=min_step:\n",
    "    \n",
    "    for i in range(100):\n",
    "      #for direction[i]\n",
    "      temp_coords[i] += directions[i]*step\n",
    "      new_aep = fev.getAEP(turb_rad, temp_coords.reshape(50,2), power_curve, wind_inst_freq, n_wind_instances, cos_dir, sin_dir, wind_sped_stacked, C_t)\n",
    "      new_aep -= penalty(temp_coords,rho1,rho2)\n",
    "      if new_aep>best_aep:\n",
    "        best_aep = new_aep\n",
    "        rho1 *= 1.1\n",
    "        rho2 *= 1.1\n",
    "      #for -direction[i]\n",
    "      else:\n",
    "        directions[i] *= -1\n",
    "        temp_coords[i] += directions[i]*step\n",
    "        new_aep = fev.getAEP(turb_rad, temp_coords.reshape(50,2), power_curve, wind_inst_freq, n_wind_instances, cos_dir, sin_dir, wind_sped_stacked, C_t)\n",
    "        new_aep -= penalty(temp_coords,rho1,rho2)\n",
    "        if new_aep>best_aep:\n",
    "          best_aep = new_aep\n",
    "          rho1 *= 1.1\n",
    "          rho2 *= 1.1\n",
    "    if last_aep==best_aep:\n",
    "      step = step*step_decay_rate\n",
    "    print(last_aep,\"-->\",best_aep,'step:',step)\n",
    "    last_aep = best_aep\n",
    "  return temp_coords.reshape(50,2)\n",
    "\n"
   ]
  },
  {
   "cell_type": "code",
   "execution_count": null,
   "metadata": {
    "id": "60RH_7byoiIk"
   },
   "outputs": [],
   "source": [
    "def optimize_v2(turb_coords,aep,step,epoch,step_decay_rate):\n",
    "  step_ini = step\n",
    "  best_aep = aep\n",
    "  last_aep = aep\n",
    "  turb_coords = turb_coords.reshape(100)\n",
    "  rho1 = 10\n",
    "  rho2 = 10\n",
    "\n",
    "  directions = np.ones(100)\n",
    "  temp_coords = np.copy(turb_coords)\n",
    "  for e in range(epoch):\n",
    "    for i in range(100):\n",
    "      change=0\n",
    "      while step>0.01:\n",
    "       #for direction[i]\n",
    "       temp_coords[i] += directions[i]*step\n",
    "       new_aep = fev.getAEP(turb_rad, temp_coords.reshape(50,2), power_curve, wind_inst_freq, n_wind_instances, cos_dir, sin_dir, wind_sped_stacked, C_t)\n",
    "       new_aep -= penalty(temp_coords,rho1,rho2)\n",
    "       if new_aep>best_aep:\n",
    "         best_aep = new_aep\n",
    "         rho1 *= 1.1\n",
    "         rho2 *= 1.1\n",
    "         change=0\n",
    "       #for -direction[i]\n",
    "       else:\n",
    "         #print('else',change) --ignore\n",
    "         directions[i] *= -1\n",
    "         temp_coords[i] += directions[i]*step\n",
    "         new_aep = fev.getAEP(turb_rad, temp_coords.reshape(50,2), power_curve, wind_inst_freq, n_wind_instances, cos_dir, sin_dir, wind_sped_stacked, C_t)\n",
    "         new_aep -= penalty(temp_coords,rho1,rho2)\n",
    "         best_aep = new_aep\n",
    "         change+=1\n",
    "       print('\\r','aep:',best_aep,'i:',i,'step:',step,end='')\n",
    "       if change==2: #no change on switching directions twice\n",
    "         step*=step_decay_rate\n",
    "         change=0\n",
    "       #print('aep:',best_aep,step)\n",
    "      #reinitialize step for next position i\n",
    "      step = step_ini\n",
    "    print('\\r',last_aep,\"-->\",best_aep, 'epoch:',e+1,'         ')\n",
    "    if last_aep==best_aep:\n",
    "      print('No further optimization possible')\n",
    "      break\n",
    "    last_aep = best_aep\n",
    "  return temp_coords.reshape(50,2)\n",
    "\n"
   ]
  },
  {
   "cell_type": "markdown",
   "metadata": {
    "id": "D8o730UdmPQJ"
   },
   "source": [
    "###Visualizing Changes"
   ]
  },
  {
   "cell_type": "code",
   "execution_count": null,
   "metadata": {
    "id": "G0hO8-Bbmo4v"
   },
   "outputs": [],
   "source": [
    "def visualize(old_coords,new_coords,figsize=(10,10)):\n",
    "  fig = plt.figure(figsize=figsize)\n",
    "  fig = plt.scatter(old_coords[:,0],old_coords[:,1],c='red')\n",
    "  fig = plt.scatter(new_coords[:,0],new_coords[:,1],c='blue')\n",
    "  plt.show()"
   ]
  },
  {
   "cell_type": "markdown",
   "metadata": {
    "id": "-aVDaNHGUfhN"
   },
   "source": [
    "###Experiment Section"
   ]
  },
  {
   "cell_type": "code",
   "execution_count": null,
   "metadata": {
    "colab": {
     "base_uri": "https://localhost:8080/",
     "height": 159
    },
    "executionInfo": {
     "elapsed": 695,
     "status": "ok",
     "timestamp": 1603177400793,
     "user": {
      "displayName": "Giwil Gidwani",
      "photoUrl": "https://lh4.googleusercontent.com/-gE2Wv_aoAmY/AAAAAAAAAAI/AAAAAAAAWek/BgtsdEEAtxg/s64/photo.jpg",
      "userId": "01860341906430262736"
     },
     "user_tz": -330
    },
    "id": "dhXbyEljSyV_",
    "outputId": "60f98437-c4f7-4ff3-802e-6a844fc3fc4b"
   },
   "outputs": [
    {
     "name": "stdout",
     "output_type": "stream",
     "text": [
      "/content/hackerearth_shell.ai_hackathon/Shell_Hackathon Dataset/Wind Data/wind_data_2013.csv\n",
      "/content/hackerearth_shell.ai_hackathon/Shell_Hackathon Dataset/Wind Data/wind_data_2015.csv\n",
      "/content/hackerearth_shell.ai_hackathon/Shell_Hackathon Dataset/Wind Data/wind_data_2014.csv\n",
      "/content/hackerearth_shell.ai_hackathon/Shell_Hackathon Dataset/Wind Data/wind_data_2017.csv\n",
      "/content/hackerearth_shell.ai_hackathon/Shell_Hackathon Dataset/Wind Data/wind_data_2009.csv\n",
      "/content/hackerearth_shell.ai_hackathon/Shell_Hackathon Dataset/Wind Data/wind_data_2008.csv\n",
      "/content/hackerearth_shell.ai_hackathon/Shell_Hackathon Dataset/Wind Data/wind_data_2007.csv\n"
     ]
    }
   ],
   "source": [
    "wind_data_files = []\n",
    "for root, dirs, files in os.walk('/content/hackerearth_shell.ai_hackathon/Shell_Hackathon Dataset/Wind Data/'):\n",
    "  for name in files:\n",
    "    filepath = os.path.join(root,name)\n",
    "    print(filepath)\n",
    "    wind_data_files.append(filepath)\n",
    "\n",
    "#df= pd.read_csv('/content/hackerearth_shell.ai_hackathon/Shell_Hackathon Dataset/Wind Data/wind_data_2013.csv')\n",
    "df_list = [pd.read_csv(fp) for fp in wind_data_files]"
   ]
  },
  {
   "cell_type": "code",
   "execution_count": null,
   "metadata": {
    "id": "PWTH1t2wXSja"
   },
   "outputs": [],
   "source": [
    "for i in range(1,7):\n",
    "  df_list[0] = df_list[0].append(df_list[i])\n",
    "df_list = df_list[0]\n",
    "df_list.to_csv('wind_data_combined.csv')"
   ]
  },
  {
   "cell_type": "code",
   "execution_count": null,
   "metadata": {
    "colab": {
     "base_uri": "https://localhost:8080/",
     "height": 34
    },
    "executionInfo": {
     "elapsed": 1259,
     "status": "ok",
     "timestamp": 1603177402425,
     "user": {
      "displayName": "Giwil Gidwani",
      "photoUrl": "https://lh4.googleusercontent.com/-gE2Wv_aoAmY/AAAAAAAAAAI/AAAAAAAAWek/BgtsdEEAtxg/s64/photo.jpg",
      "userId": "01860341906430262736"
     },
     "user_tz": -330
    },
    "id": "fdezjS33YtnB",
    "outputId": "0d0a3128-cfbd-428c-db39-7a8f76c046c4"
   },
   "outputs": [
    {
     "data": {
      "text/plain": [
       "0.9999999978808773"
      ]
     },
     "execution_count": 10,
     "metadata": {
      "tags": []
     },
     "output_type": "execute_result"
    }
   ],
   "source": [
    "wind_inst_freq = fev.binWindResourceData('wind_data_combined.csv')\n",
    "sum(wind_inst_freq)"
   ]
  },
  {
   "cell_type": "code",
   "execution_count": null,
   "metadata": {
    "colab": {
     "base_uri": "https://localhost:8080/",
     "height": 34
    },
    "executionInfo": {
     "elapsed": 1487,
     "status": "ok",
     "timestamp": 1603177410988,
     "user": {
      "displayName": "Giwil Gidwani",
      "photoUrl": "https://lh4.googleusercontent.com/-gE2Wv_aoAmY/AAAAAAAAAAI/AAAAAAAAWek/BgtsdEEAtxg/s64/photo.jpg",
      "userId": "01860341906430262736"
     },
     "user_tz": -330
    },
    "id": "JZ0zHLSzY48s",
    "outputId": "c6f013f4-49ff-4bbb-91c0-26ab50ba6b5d"
   },
   "outputs": [
    {
     "name": "stdout",
     "output_type": "stream",
     "text": [
      "AEP for Dataset 498.15395599365235\n"
     ]
    }
   ],
   "source": [
    "turb_rad = 50.0\n",
    "turb_coords = fev.getTurbLoc('/content/hackerearth_shell.ai_hackathon/Shell_Hackathon Dataset/turbine_loc_test.csv')#turbine locations csv file path\n",
    "power_curve = fev.loadPowerCurve('/content/hackerearth_shell.ai_hackathon/Shell_Hackathon Dataset/power_curve.csv')#power curve csv file path\n",
    "wind_inst_freq = fev.binWindResourceData('wind_data_combined.csv')#wind data file name\n",
    "n_wind_instances, cos_dir, sin_dir, wind_sped_stacked, C_t = fev.preProcessing(power_curve)\n",
    "aep = fev.getAEP(turb_rad, turb_coords, power_curve, wind_inst_freq, n_wind_instances, cos_dir, sin_dir, wind_sped_stacked, C_t)\n",
    "print(\"AEP for Dataset\",aep)"
   ]
  },
  {
   "cell_type": "markdown",
   "metadata": {
    "id": "ai1DFEamp2rK"
   },
   "source": []
  },
  {
   "cell_type": "code",
   "execution_count": null,
   "metadata": {
    "colab": {
     "base_uri": "https://localhost:8080/",
     "height": 72
    },
    "id": "eYY5YxnKbA2U",
    "outputId": "9ef729ad-da9a-4c78-841e-9661fe9bed96"
   },
   "outputs": [
    {
     "name": "stdout",
     "output_type": "stream",
     "text": [
      " aep: 524.0671403503418 i: 99 step: 0.010290430145553224498.15395599365235 --> 524.0671403503418 epoch: 1\n",
      " aep: 524.0844836425781 i: 82 step: 0.04048376602284338"
     ]
    }
   ],
   "source": [
    "new_coords=optimize_v2(new_coords,aep,1000,5,0.9)#0.9 0.5 0.9\n",
    "print(penalty(new_coords,10,10))"
   ]
  },
  {
   "cell_type": "code",
   "execution_count": 18,
   "metadata": {
    "colab": {
     "base_uri": "https://localhost:8080/",
     "height": 52
    },
    "executionInfo": {
     "elapsed": 836,
     "status": "ok",
     "timestamp": 1603192121963,
     "user": {
      "displayName": "Giwil Gidwani",
      "photoUrl": "https://lh4.googleusercontent.com/-gE2Wv_aoAmY/AAAAAAAAAAI/AAAAAAAAWek/BgtsdEEAtxg/s64/photo.jpg",
      "userId": "01860341906430262736"
     },
     "user_tz": -330
    },
    "id": "67eThAk9bnek",
    "outputId": "52d67f6e-4fd9-4b6c-ab86-677e6ab05ded"
   },
   "outputs": [
    {
     "name": "stdout",
     "output_type": "stream",
     "text": [
      "Both perimeter and proximity constraints are satisfied !!\n",
      "\n"
     ]
    }
   ],
   "source": [
    "_=fev.checkConstraints(new_coords,100)"
   ]
  },
  {
   "cell_type": "code",
   "execution_count": 17,
   "metadata": {
    "colab": {
     "base_uri": "https://localhost:8080/",
     "height": 592
    },
    "executionInfo": {
     "elapsed": 1195,
     "status": "ok",
     "timestamp": 1603192114829,
     "user": {
      "displayName": "Giwil Gidwani",
      "photoUrl": "https://lh4.googleusercontent.com/-gE2Wv_aoAmY/AAAAAAAAAAI/AAAAAAAAWek/BgtsdEEAtxg/s64/photo.jpg",
      "userId": "01860341906430262736"
     },
     "user_tz": -330
    },
    "id": "mnCSJG21uRHE",
    "outputId": "66e8b3a3-f5c1-4484-f602-1185e0dabf64"
   },
   "outputs": [
    {
     "data": {
      "image/png": "[encoded data removed]",
      "text/plain": [
       "<Figure size 720x720 with 1 Axes>"
      ]
     },
     "metadata": {
      "needs_background": "light",
      "tags": []
     },
     "output_type": "display_data"
    }
   ],
   "source": [
    "visualize(turb_coords,new_coords)"
   ]
  },
  {
   "cell_type": "markdown",
   "metadata": {
    "id": "Ti2Y3QttbkhL"
   },
   "source": [
    "###Saving Output for Submission"
   ]
  },
  {
   "cell_type": "code",
   "execution_count": null,
   "metadata": {
    "colab": {
     "base_uri": "https://localhost:8080/",
     "height": 206
    },
    "executionInfo": {
     "elapsed": 942,
     "status": "ok",
     "timestamp": 1603190837081,
     "user": {
      "displayName": "Giwil Gidwani",
      "photoUrl": "https://lh4.googleusercontent.com/-gE2Wv_aoAmY/AAAAAAAAAAI/AAAAAAAAWek/BgtsdEEAtxg/s64/photo.jpg",
      "userId": "01860341906430262736"
     },
     "user_tz": -330
    },
    "id": "YivVAsbYa_fA",
    "outputId": "dd8c23f5-4b40-48a8-b089-4fd9ec34c0af"
   },
   "outputs": [
    {
     "data": {
      "text/html": [
       "<div>\n",
       "<style scoped>\n",
       "    .dataframe tbody tr th:only-of-type {\n",
       "        vertical-align: middle;\n",
       "    }\n",
       "\n",
       "    .dataframe tbody tr th {\n",
       "        vertical-align: top;\n",
       "    }\n",
       "\n",
       "    .dataframe thead th {\n",
       "        text-align: right;\n",
       "    }\n",
       "</style>\n",
       "<table border=\"1\" class=\"dataframe\">\n",
       "  <thead>\n",
       "    <tr style=\"text-align: right;\">\n",
       "      <th></th>\n",
       "      <th>x</th>\n",
       "      <th>y</th>\n",
       "    </tr>\n",
       "  </thead>\n",
       "  <tbody>\n",
       "    <tr>\n",
       "      <th>0</th>\n",
       "      <td>3937.083740</td>\n",
       "      <td>50.244843</td>\n",
       "    </tr>\n",
       "    <tr>\n",
       "      <th>1</th>\n",
       "      <td>3465.969727</td>\n",
       "      <td>2624.438965</td>\n",
       "    </tr>\n",
       "    <tr>\n",
       "      <th>2</th>\n",
       "      <td>51.586395</td>\n",
       "      <td>142.320129</td>\n",
       "    </tr>\n",
       "    <tr>\n",
       "      <th>3</th>\n",
       "      <td>784.102600</td>\n",
       "      <td>1077.236084</td>\n",
       "    </tr>\n",
       "    <tr>\n",
       "      <th>4</th>\n",
       "      <td>65.720436</td>\n",
       "      <td>3372.795898</td>\n",
       "    </tr>\n",
       "  </tbody>\n",
       "</table>\n",
       "</div>"
      ],
      "text/plain": [
       "             x            y\n",
       "0  3937.083740    50.244843\n",
       "1  3465.969727  2624.438965\n",
       "2    51.586395   142.320129\n",
       "3   784.102600  1077.236084\n",
       "4    65.720436  3372.795898"
      ]
     },
     "execution_count": 14,
     "metadata": {
      "tags": []
     },
     "output_type": "execute_result"
    }
   ],
   "source": [
    "df_v5 = pd.DataFrame(data=new_coords,columns=['x','y'])\n",
    "df_v5.head()"
   ]
  },
  {
   "cell_type": "code",
   "execution_count": null,
   "metadata": {
    "id": "dVWUmOHycq-1"
   },
   "outputs": [],
   "source": [
    "df_v5.to_csv('submission_v12.csv',index=False)"
   ]
  },
  {
   "cell_type": "code",
   "execution_count": null,
   "metadata": {
    "id": "Mi_wkLBUwDI7"
   },
   "outputs": [],
   "source": []
  }
 ],
 "metadata": {
  "colab": {
   "collapsed_sections": [],
   "name": "shell.ai_pattern_search_optimization_experiment.ipynb",
   "provenance": [
    {
     "file_id": "1GimXZQIk3EUyLY1HgfPSVAjmXYz32KK5",
     "timestamp": 1603031609745
    },
    {
     "file_id": "1GdjK5aGgXD4WY77FCJVY8ju8ogAFUM80",
     "timestamp": 1603021835061
    },
    {
     "file_id": "1NYsmqcuNh2BLNTKnET9Hz31fRrL3g_mm",
     "timestamp": 1602957559848
    }
   ]
  },
  "kernelspec": {
   "display_name": "Python 3",
   "language": "python",
   "name": "python3"
  },
  "language_info": {
   "codemirror_mode": {
    "name": "ipython",
    "version": 3
   },
   "file_extension": ".py",
   "mimetype": "text/x-python",
   "name": "python",
   "nbconvert_exporter": "python",
   "pygments_lexer": "ipython3",
   "version": "3.8.3"
  }
 },
 "nbformat": 4,
 "nbformat_minor": 1
}
