{
 "cells": [
  {
   "cell_type": "markdown",
   "metadata": {
    "id": "yfHzailnWyO0"
   },
   "source": [
    "###Cloning Repository"
   ]
  },
  {
   "cell_type": "code",
   "execution_count": null,
   "metadata": {
    "colab": {
     "base_uri": "https://localhost:8080/",
     "height": 521
    },
    "executionInfo": {
     "elapsed": 2843,
     "status": "ok",
     "timestamp": 1603174198654,
     "user": {
      "displayName": "Giwil Gidwani",
      "photoUrl": "https://lh4.googleusercontent.com/-gE2Wv_aoAmY/AAAAAAAAAAI/AAAAAAAAWek/BgtsdEEAtxg/s64/photo.jpg",
      "userId": "01860341906430262736"
     },
     "user_tz": -330
    },
    "id": "Yk-3Iikm26ZJ",
    "outputId": "7853ceb9-0e8c-4a01-fc1e-63819a799702"
   },
   "outputs": [
    {
     "name": "stdout",
     "output_type": "stream",
     "text": [
      "Cloning into 'hackerearth_shell.ai_hackathon'...\n",
      "remote: Enumerating objects: 6, done.\u001b[K\n",
      "remote: Counting objects: 100% (6/6), done.\u001b[K\n",
      "remote: Compressing objects: 100% (3/3), done.\u001b[K\n",
      "remote: Total 6 (delta 1), reused 4 (delta 1), pack-reused 0\u001b[K\n",
      "Unpacking objects: 100% (6/6), done.\n",
      "Archive:  /content/hackerearth_shell.ai_hackathon/shell.ai_dataset.zip\n",
      "  inflating: /content/hackerearth_shell.ai_hackathon/Shell_Hackathon_Dataset.zip  \n",
      "  inflating: /content/hackerearth_shell.ai_hackathon/Wind_Farm_Evaluator.zip  \n",
      "  inflating: /content/hackerearth_shell.ai_hackathon/aep_algo.pdf  \n",
      "  inflating: /content/hackerearth_shell.ai_hackathon/data_interpret.pdf  \n",
      "  inflating: /content/hackerearth_shell.ai_hackathon/prob-statement.pdf  \n",
      "  inflating: /content/hackerearth_shell.ai_hackathon/wake_model.pdf  \n",
      "Archive:  /content/hackerearth_shell.ai_hackathon/Shell_Hackathon_Dataset.zip\n",
      "   creating: /content/hackerearth_shell.ai_hackathon/Shell_Hackathon Dataset/\n",
      "  inflating: /content/hackerearth_shell.ai_hackathon/Shell_Hackathon Dataset/power_curve.csv  \n",
      "   creating: /content/hackerearth_shell.ai_hackathon/Shell_Hackathon Dataset/Wind Data/\n",
      "  inflating: /content/hackerearth_shell.ai_hackathon/Shell_Hackathon Dataset/Wind Data/wind_data_2008.csv  \n",
      "  inflating: /content/hackerearth_shell.ai_hackathon/Shell_Hackathon Dataset/Wind Data/wind_data_2014.csv  \n",
      "  inflating: /content/hackerearth_shell.ai_hackathon/Shell_Hackathon Dataset/Wind Data/wind_data_2013.csv  \n",
      "  inflating: /content/hackerearth_shell.ai_hackathon/Shell_Hackathon Dataset/Wind Data/wind_data_2017.csv  \n",
      "  inflating: /content/hackerearth_shell.ai_hackathon/Shell_Hackathon Dataset/Wind Data/wind_data_2009.csv  \n",
      "  inflating: /content/hackerearth_shell.ai_hackathon/Shell_Hackathon Dataset/Wind Data/wind_data_2015.csv  \n",
      "  inflating: /content/hackerearth_shell.ai_hackathon/Shell_Hackathon Dataset/Wind Data/wind_data_2007.csv  \n",
      "  inflating: /content/hackerearth_shell.ai_hackathon/Shell_Hackathon Dataset/turbine_loc_test.csv  \n",
      "Archive:  /content/hackerearth_shell.ai_hackathon/Wind_Farm_Evaluator.zip\n",
      "  inflating: /content/hackerearth_shell.ai_hackathon/Farm_Evaluator.m  \n",
      "  inflating: /content/hackerearth_shell.ai_hackathon/Farm_Evaluator.py  \n",
      "  inflating: /content/hackerearth_shell.ai_hackathon/Farm_Evaluator_Vec.py  \n"
     ]
    }
   ],
   "source": [
    "!git clone https://github.com/giwilorjelly/hackerearth_shell.ai_hackathon\n",
    "!unzip /content/hackerearth_shell.ai_hackathon/shell.ai_dataset.zip -d /content/hackerearth_shell.ai_hackathon\n",
    "!unzip /content/hackerearth_shell.ai_hackathon/Shell_Hackathon_Dataset.zip -d /content/hackerearth_shell.ai_hackathon\n",
    "!unzip /content/hackerearth_shell.ai_hackathon/Wind_Farm_Evaluator.zip -d /content/hackerearth_shell.ai_hackathon"
   ]
  },
  {
   "cell_type": "markdown",
   "metadata": {
    "id": "fLumxc6GW60v"
   },
   "source": [
    "###Importing Script"
   ]
  },
  {
   "cell_type": "code",
   "execution_count": null,
   "metadata": {
    "colab": {
     "base_uri": "https://localhost:8080/",
     "height": 35
    },
    "executionInfo": {
     "elapsed": 769,
     "status": "ok",
     "timestamp": 1603174198658,
     "user": {
      "displayName": "Giwil Gidwani",
      "photoUrl": "https://lh4.googleusercontent.com/-gE2Wv_aoAmY/AAAAAAAAAAI/AAAAAAAAWek/BgtsdEEAtxg/s64/photo.jpg",
      "userId": "01860341906430262736"
     },
     "user_tz": -330
    },
    "id": "_Vnbo8FL2_-q",
    "outputId": "64290914-6ad2-41be-efcf-cacf95b1f2ae"
   },
   "outputs": [
    {
     "data": {
      "application/vnd.google.colaboratory.intrinsic+json": {
       "type": "string"
      },
      "text/plain": [
       "'/content/Farm_Evaluator_Vec.py'"
      ]
     },
     "execution_count": 3,
     "metadata": {
      "tags": []
     },
     "output_type": "execute_result"
    }
   ],
   "source": [
    "#copying script to current directory\n",
    "from shutil import copyfile\n",
    "import os\n",
    "copyfile('/content/hackerearth_shell.ai_hackathon/Farm_Evaluator_Vec.py',\n",
    "         os.path.join(os.getcwd(),'Farm_Evaluator_Vec.py'))"
   ]
  },
  {
   "cell_type": "code",
   "execution_count": null,
   "metadata": {
    "id": "mIotjoU3XHxX"
   },
   "outputs": [],
   "source": [
    "import Farm_Evaluator_Vec as fev\n",
    "import numpy as np\n",
    "import pandas as pd\n",
    "import matplotlib.pyplot as plt\n",
    "import seaborn as sns\n",
    "%matplotlib inline"
   ]
  },
  {
   "cell_type": "markdown",
   "metadata": {
    "id": "Q6AAEuPGYojM"
   },
   "source": [
    "###Calculating AEP for turbine_loc_test"
   ]
  },
  {
   "cell_type": "code",
   "execution_count": null,
   "metadata": {
    "id": "kER_iRsaYh7A"
   },
   "outputs": [],
   "source": [
    "turb_rad = 50.0\n",
    "turb_coords = fev.getTurbLoc('/content/hackerearth_shell.ai_hackathon/Shell_Hackathon Dataset/turbine_loc_test.csv')#turbine locations csv file path\n",
    "power_curve = fev.loadPowerCurve('/content/hackerearth_shell.ai_hackathon/Shell_Hackathon Dataset/power_curve.csv')#power curve csv file path\n",
    "wind_inst_freq = fev.binWindResourceData('/content/hackerearth_shell.ai_hackathon/Shell_Hackathon Dataset/Wind Data/wind_data_2007.csv')#wind data file name\n",
    "n_wind_instances, cos_dir, sin_dir, wind_sped_stacked, C_t = fev.preProcessing(power_curve)"
   ]
  },
  {
   "cell_type": "code",
   "execution_count": null,
   "metadata": {
    "colab": {
     "base_uri": "https://localhost:8080/",
     "height": 34
    },
    "executionInfo": {
     "elapsed": 784,
     "status": "ok",
     "timestamp": 1603174202007,
     "user": {
      "displayName": "Giwil Gidwani",
      "photoUrl": "https://lh4.googleusercontent.com/-gE2Wv_aoAmY/AAAAAAAAAAI/AAAAAAAAWek/BgtsdEEAtxg/s64/photo.jpg",
      "userId": "01860341906430262736"
     },
     "user_tz": -330
    },
    "id": "aZHXl3x5bns5",
    "outputId": "0d61d78e-8a0b-4da1-9ed0-e3bb8fa450dc"
   },
   "outputs": [
    {
     "name": "stdout",
     "output_type": "stream",
     "text": [
      "AEP for turbine_loc_test on wind_data_2007: 505.4506365966797\n"
     ]
    }
   ],
   "source": [
    "aep = fev.getAEP(turb_rad, turb_coords, power_curve, wind_inst_freq, n_wind_instances, cos_dir, sin_dir, wind_sped_stacked, C_t)\n",
    "print(\"AEP for turbine_loc_test on wind_data_2007:\",aep)"
   ]
  },
  {
   "cell_type": "markdown",
   "metadata": {
    "id": "4a9hdHTucK9C"
   },
   "source": [
    "###Functions for Pattern Search"
   ]
  },
  {
   "cell_type": "code",
   "execution_count": null,
   "metadata": {
    "id": "qhPSuIXh4Zy7"
   },
   "outputs": [],
   "source": [
    "def penalty(coords,rho1,rho2):\n",
    "  c = np.copy(coords).reshape(50,2)\n",
    "  #finding boundary boundary loss\n",
    "  b_loss = np.sum(np.abs(c[c<50]-50)) + np.sum(np.abs(c[c>3950]-3950))\n",
    "  #finding proximity loss\n",
    "  p_loss=0\n",
    "  for i in range(49):\n",
    "    for j in range(i+1,50):\n",
    "      d = np.linalg.norm(c[i][:]-c[j][:])\n",
    "      if d<400:\n",
    "        p_loss+=d\n",
    "  return rho1*b_loss+rho2*p_loss  "
   ]
  },
  {
   "cell_type": "code",
   "execution_count": null,
   "metadata": {
    "id": "UtV_TlXGfZUO"
   },
   "outputs": [],
   "source": [
    "def optimize(turb_coords,aep,step,min_step,step_decay_rate):\n",
    "  best_aep = aep\n",
    "  last_aep = aep\n",
    "  turb_coords = turb_coords.reshape(100)\n",
    "  rho1 = 10\n",
    "  rho2 = 10\n",
    "  directions = np.ones(100)\n",
    "  temp_coords = np.copy(turb_coords)\n",
    "  while step>=min_step:\n",
    "    \n",
    "    for i in range(100):\n",
    "      #for direction[i]\n",
    "      temp_coords[i] += directions[i]*step\n",
    "      new_aep = fev.getAEP(turb_rad, temp_coords.reshape(50,2), power_curve, wind_inst_freq, n_wind_instances, cos_dir, sin_dir, wind_sped_stacked, C_t)\n",
    "      new_aep -= penalty(temp_coords,rho1,rho2)\n",
    "      if new_aep>best_aep:\n",
    "        best_aep = new_aep\n",
    "        rho1 *= 1.1\n",
    "        rho2 *= 1.1\n",
    "      #for -direction[i]\n",
    "      else:\n",
    "        \n",
    "        directions[i] *= -1\n",
    "        temp_coords[i] += directions[i]*step\n",
    "        new_aep = fev.getAEP(turb_rad, temp_coords.reshape(50,2), power_curve, wind_inst_freq, n_wind_instances, cos_dir, sin_dir, wind_sped_stacked, C_t)\n",
    "        new_aep -= penalty(temp_coords,rho1,rho2)\n",
    "        '''if new_aep>best_aep:\n",
    "          best_aep = new_aep\n",
    "          rho1 *= 1.1\n",
    "          rho2 *= 1.1'''\n",
    "        best_aep = new_aep\n",
    "    if last_aep==best_aep:\n",
    "      step = step*step_decay_rate\n",
    "    print(last_aep,\"-->\",best_aep,'step:',step)\n",
    "    last_aep = best_aep\n",
    "  return temp_coords.reshape(50,2)\n",
    "\n"
   ]
  },
  {
   "cell_type": "code",
   "execution_count": null,
   "metadata": {
    "id": "etafYoQwWut9"
   },
   "outputs": [],
   "source": [
    "def optimize_v2(turb_coords,aep,step,epoch,step_decay_rate):\n",
    "  step_ini = step\n",
    "  best_aep = aep\n",
    "  last_aep = aep\n",
    "  turb_coords = turb_coords.reshape(100)\n",
    "  rho1 = 10\n",
    "  rho2 = 10\n",
    "\n",
    "  directions = np.ones(100)\n",
    "  temp_coords = np.copy(turb_coords)\n",
    "  for e in range(epoch):\n",
    "    for i in range(100):\n",
    "      change=0\n",
    "      while step>0.01:\n",
    "       #for direction[i]\n",
    "       temp_coords[i] += directions[i]*step\n",
    "       new_aep = fev.getAEP(turb_rad, temp_coords.reshape(50,2), power_curve, wind_inst_freq, n_wind_instances, cos_dir, sin_dir, wind_sped_stacked, C_t)\n",
    "       new_aep -= penalty(temp_coords,rho1,rho2)\n",
    "       if new_aep>best_aep:\n",
    "         best_aep = new_aep\n",
    "         rho1 *= 1.1\n",
    "         rho2 *= 1.1\n",
    "         change=0\n",
    "       #for -direction[i]\n",
    "       else:\n",
    "         #print('else',change) --ignore\n",
    "         directions[i] *= -1\n",
    "         temp_coords[i] += directions[i]*step\n",
    "         new_aep = fev.getAEP(turb_rad, temp_coords.reshape(50,2), power_curve, wind_inst_freq, n_wind_instances, cos_dir, sin_dir, wind_sped_stacked, C_t)\n",
    "         new_aep -= penalty(temp_coords,rho1,rho2)\n",
    "         best_aep = new_aep\n",
    "         change+=1\n",
    "       print('\\r','aep:',best_aep,'i:',i,'step:',step,end='')\n",
    "       if change==2: #no change on switching directions twice\n",
    "         step*=step_decay_rate\n",
    "         change=0\n",
    "       #print('aep:',best_aep,step)\n",
    "      #reinitialize step for next position i\n",
    "      step = step_ini\n",
    "    print('\\r',last_aep,\"-->\",best_aep, 'epoch:',e+1,'         ')\n",
    "    if last_aep==best_aep:\n",
    "      print('No further optimization possible')\n",
    "      break\n",
    "    last_aep = best_aep\n",
    "  return temp_coords.reshape(50,2)\n",
    "\n"
   ]
  },
  {
   "cell_type": "code",
   "execution_count": null,
   "metadata": {
    "id": "OBjzfQAs4Y9X"
   },
   "outputs": [],
   "source": [
    "new_coords=optimize_v2(turb_coords,505.4506365966797,100,10,0.5)\n",
    "print(penalty(new_coords,10,10))"
   ]
  },
  {
   "cell_type": "code",
   "execution_count": null,
   "metadata": {
    "colab": {
     "base_uri": "https://localhost:8080/",
     "height": 52
    },
    "executionInfo": {
     "elapsed": 2941026,
     "status": "ok",
     "timestamp": 1603130872605,
     "user": {
      "displayName": "Giwil Gidwani",
      "photoUrl": "https://lh4.googleusercontent.com/-gE2Wv_aoAmY/AAAAAAAAAAI/AAAAAAAAWek/BgtsdEEAtxg/s64/photo.jpg",
      "userId": "01860341906430262736"
     },
     "user_tz": -330
    },
    "id": "8b4x2kapPp1n",
    "outputId": "343e4a6c-4ee1-48d1-8c53-91dda277781e"
   },
   "outputs": [
    {
     "name": "stdout",
     "output_type": "stream",
     "text": [
      "Both perimeter and proximity constraints are satisfied !!\n",
      "\n"
     ]
    }
   ],
   "source": [
    "_=fev.checkConstraints(new_coords,100)"
   ]
  },
  {
   "cell_type": "markdown",
   "metadata": {
    "id": "D8o730UdmPQJ"
   },
   "source": [
    "###Visualizing Changes"
   ]
  },
  {
   "cell_type": "code",
   "execution_count": null,
   "metadata": {
    "id": "G0hO8-Bbmo4v"
   },
   "outputs": [],
   "source": [
    "def visualize(old_coords,new_coords,figsize=(10,10)):\n",
    "  fig = plt.figure(figsize=figsize)\n",
    "  fig = plt.scatter(old_coords[:,0],old_coords[:,1],c='red')\n",
    "  fig = plt.scatter(new_coords[:,0],new_coords[:,1],c='blue')\n",
    "  plt.show()"
   ]
  },
  {
   "cell_type": "code",
   "execution_count": null,
   "metadata": {
    "colab": {
     "base_uri": "https://localhost:8080/",
     "height": 592
    },
    "executionInfo": {
     "elapsed": 2939458,
     "status": "ok",
     "timestamp": 1603130872609,
     "user": {
      "displayName": "Giwil Gidwani",
      "photoUrl": "https://lh4.googleusercontent.com/-gE2Wv_aoAmY/AAAAAAAAAAI/AAAAAAAAWek/BgtsdEEAtxg/s64/photo.jpg",
      "userId": "01860341906430262736"
     },
     "user_tz": -330
    },
    "id": "D9RpS-2XnnKd",
    "outputId": "787f3baf-c2a0-4936-8f1b-fd55ba35806b"
   },
   "outputs": [
    {
     "data": {
      "image/png": "[encoded data removed]",
      "text/plain": [
       "<Figure size 720x720 with 1 Axes>"
      ]
     },
     "metadata": {
      "tags": []
     },
     "output_type": "display_data"
    }
   ],
   "source": [
    "visualize(turb_coords,new_coords)"
   ]
  },
  {
   "cell_type": "markdown",
   "metadata": {
    "id": "-aVDaNHGUfhN"
   },
   "source": [
    "###Optimizing for Entire Dataset"
   ]
  },
  {
   "cell_type": "code",
   "execution_count": null,
   "metadata": {
    "colab": {
     "base_uri": "https://localhost:8080/",
     "height": 139
    },
    "executionInfo": {
     "elapsed": 1069,
     "status": "ok",
     "timestamp": 1603174234046,
     "user": {
      "displayName": "Giwil Gidwani",
      "photoUrl": "https://lh4.googleusercontent.com/-gE2Wv_aoAmY/AAAAAAAAAAI/AAAAAAAAWek/BgtsdEEAtxg/s64/photo.jpg",
      "userId": "01860341906430262736"
     },
     "user_tz": -330
    },
    "id": "dhXbyEljSyV_",
    "outputId": "b154f13e-4318-4217-ad82-af2ff7c99fb3"
   },
   "outputs": [
    {
     "name": "stdout",
     "output_type": "stream",
     "text": [
      "/content/hackerearth_shell.ai_hackathon/Shell_Hackathon Dataset/Wind Data/wind_data_2013.csv\n",
      "/content/hackerearth_shell.ai_hackathon/Shell_Hackathon Dataset/Wind Data/wind_data_2015.csv\n",
      "/content/hackerearth_shell.ai_hackathon/Shell_Hackathon Dataset/Wind Data/wind_data_2014.csv\n",
      "/content/hackerearth_shell.ai_hackathon/Shell_Hackathon Dataset/Wind Data/wind_data_2017.csv\n",
      "/content/hackerearth_shell.ai_hackathon/Shell_Hackathon Dataset/Wind Data/wind_data_2009.csv\n",
      "/content/hackerearth_shell.ai_hackathon/Shell_Hackathon Dataset/Wind Data/wind_data_2008.csv\n",
      "/content/hackerearth_shell.ai_hackathon/Shell_Hackathon Dataset/Wind Data/wind_data_2007.csv\n"
     ]
    }
   ],
   "source": [
    "wind_data_files = []\n",
    "for root, dirs, files in os.walk('/content/hackerearth_shell.ai_hackathon/Shell_Hackathon Dataset/Wind Data/'):\n",
    "  for name in files:\n",
    "    filepath = os.path.join(root,name)\n",
    "    print(filepath)\n",
    "    wind_data_files.append(filepath)\n",
    "\n",
    "df_list = [pd.read_csv(fp) for fp in wind_data_files]\n"
   ]
  },
  {
   "cell_type": "code",
   "execution_count": null,
   "metadata": {
    "colab": {
     "base_uri": "https://localhost:8080/",
     "height": 191
    },
    "executionInfo": {
     "elapsed": 1309,
     "status": "ok",
     "timestamp": 1603174237298,
     "user": {
      "displayName": "Giwil Gidwani",
      "photoUrl": "https://lh4.googleusercontent.com/-gE2Wv_aoAmY/AAAAAAAAAAI/AAAAAAAAWek/BgtsdEEAtxg/s64/photo.jpg",
      "userId": "01860341906430262736"
     },
     "user_tz": -330
    },
    "id": "PWTH1t2wXSja",
    "outputId": "f438ff7a-6d9d-4226-efd6-1fe30e14eeba"
   },
   "outputs": [
    {
     "name": "stdout",
     "output_type": "stream",
     "text": [
      "<class 'pandas.core.frame.DataFrame'>\n",
      "Int64Index: 113113 entries, 0 to 15547\n",
      "Data columns (total 3 columns):\n",
      " #   Column  Non-Null Count   Dtype  \n",
      "---  ------  --------------   -----  \n",
      " 0   date    113113 non-null  object \n",
      " 1   drct    113113 non-null  float64\n",
      " 2   sped    113113 non-null  float64\n",
      "dtypes: float64(2), object(1)\n",
      "memory usage: 3.5+ MB\n"
     ]
    }
   ],
   "source": [
    "for i in range(1,7):\n",
    "  df_list[0]=df_list[0].append(df_list[i])\n",
    "df_list = df_list[0]\n",
    "df_list.to_csv('wind_data_combined.csv')\n",
    "df_list.info()"
   ]
  },
  {
   "cell_type": "code",
   "execution_count": null,
   "metadata": {
    "colab": {
     "base_uri": "https://localhost:8080/",
     "height": 34
    },
    "executionInfo": {
     "elapsed": 1367,
     "status": "ok",
     "timestamp": 1603174239596,
     "user": {
      "displayName": "Giwil Gidwani",
      "photoUrl": "https://lh4.googleusercontent.com/-gE2Wv_aoAmY/AAAAAAAAAAI/AAAAAAAAWek/BgtsdEEAtxg/s64/photo.jpg",
      "userId": "01860341906430262736"
     },
     "user_tz": -330
    },
    "id": "pkSOPUS7nZGn",
    "outputId": "0d484451-8028-4237-c8dd-1712176f3d7b"
   },
   "outputs": [
    {
     "data": {
      "text/plain": [
       "0.9999999978808773"
      ]
     },
     "execution_count": 13,
     "metadata": {
      "tags": []
     },
     "output_type": "execute_result"
    }
   ],
   "source": [
    "wind_inst_freq = fev.binWindResourceData('wind_data_combined.csv')\n",
    "sum(wind_inst_freq)"
   ]
  },
  {
   "cell_type": "code",
   "execution_count": null,
   "metadata": {
    "colab": {
     "base_uri": "https://localhost:8080/",
     "height": 34
    },
    "executionInfo": {
     "elapsed": 2588,
     "status": "ok",
     "timestamp": 1603187946176,
     "user": {
      "displayName": "Giwil Gidwani",
      "photoUrl": "https://lh4.googleusercontent.com/-gE2Wv_aoAmY/AAAAAAAAAAI/AAAAAAAAWek/BgtsdEEAtxg/s64/photo.jpg",
      "userId": "01860341906430262736"
     },
     "user_tz": -330
    },
    "id": "fdezjS33YtnB",
    "outputId": "1b854924-45ef-4401-cbfa-be77450fec72"
   },
   "outputs": [
    {
     "name": "stdout",
     "output_type": "stream",
     "text": [
      "AEP for Dataset 545.5921376037597\n"
     ]
    }
   ],
   "source": [
    "turb_rad = 50.0\n",
    "turb_coords = fev.getTurbLoc('/content/hackerearth_shell.ai_hackathon/Shell_Hackathon Dataset/turbine_loc_test.csv')#turbine locations csv file path\n",
    "power_curve = fev.loadPowerCurve('/content/hackerearth_shell.ai_hackathon/Shell_Hackathon Dataset/power_curve.csv')#power curve csv file path\n",
    "wind_inst_freq = fev.binWindResourceData('/content/hackerearth_shell.ai_hackathon/Shell_Hackathon Dataset/Wind Data/wind_data_2017.csv')#wind data file name\n",
    "n_wind_instances, cos_dir, sin_dir, wind_sped_stacked, C_t = fev.preProcessing(power_curve)\n",
    "aep = fev.getAEP(turb_rad, turb_coords, power_curve, wind_inst_freq, n_wind_instances, cos_dir, sin_dir, wind_sped_stacked, C_t)\n",
    "print(\"AEP for Dataset\",aep)"
   ]
  },
  {
   "cell_type": "code",
   "execution_count": null,
   "metadata": {
    "colab": {
     "base_uri": "https://localhost:8080/",
     "height": 34
    },
    "executionInfo": {
     "elapsed": 1945,
     "status": "ok",
     "timestamp": 1603187949522,
     "user": {
      "displayName": "Giwil Gidwani",
      "photoUrl": "https://lh4.googleusercontent.com/-gE2Wv_aoAmY/AAAAAAAAAAI/AAAAAAAAWek/BgtsdEEAtxg/s64/photo.jpg",
      "userId": "01860341906430262736"
     },
     "user_tz": -330
    },
    "id": "JZ0zHLSzY48s",
    "outputId": "1917398b-2fc7-4427-9f08-3a8da6af6072"
   },
   "outputs": [
    {
     "name": "stdout",
     "output_type": "stream",
     "text": [
      "545.5921376037597\n"
     ]
    }
   ],
   "source": [
    "aep = fev.getAEP(turb_rad, turb_coords, power_curve, wind_inst_freq, n_wind_instances, cos_dir, sin_dir, wind_sped_stacked, C_t)\n",
    "print(aep)"
   ]
  },
  {
   "cell_type": "code",
   "execution_count": 41,
   "metadata": {
    "colab": {
     "base_uri": "https://localhost:8080/",
     "height": 208
    },
    "executionInfo": {
     "elapsed": 7773025,
     "status": "ok",
     "timestamp": 1603202091414,
     "user": {
      "displayName": "Giwil Gidwani",
      "photoUrl": "https://lh4.googleusercontent.com/-gE2Wv_aoAmY/AAAAAAAAAAI/AAAAAAAAWek/BgtsdEEAtxg/s64/photo.jpg",
      "userId": "01860341906430262736"
     },
     "user_tz": -330
    },
    "id": "eYY5YxnKbA2U",
    "outputId": "93ce38bd-531d-45de-a38d-df9e1d0170e3"
   },
   "outputs": [
    {
     "name": "stdout",
     "output_type": "stream",
     "text": [
      " 545.5921376037597 --> 565.1308767700195 epoch: 1          \n",
      " 565.1308767700195 --> 568.3082748413086 epoch: 2          \n",
      " 568.3082748413086 --> 569.1451638793945 epoch: 3          \n",
      " 569.1451638793945 --> 570.1008828735352 epoch: 4          \n",
      " 570.1008828735352 --> 570.3728952026368 epoch: 5          \n",
      " 570.3728952026368 --> 570.5487341308594 epoch: 6          \n",
      " 570.5487341308594 --> 570.5895025634766 epoch: 7          \n",
      " 570.5895025634766 --> 570.5945150756836 epoch: 8          \n",
      " 570.5945150756836 --> 570.6566033935546 epoch: 9          \n",
      " 570.6566033935546 --> 570.6671630859375 epoch: 10          \n",
      "0.0\n"
     ]
    }
   ],
   "source": [
    "new_coords=optimize_v2(turb_coords,aep,step=2000,epoch=10,step_decay_rate=.7)#.9\n",
    "print(penalty(new_coords,10,10))"
   ]
  },
  {
   "cell_type": "code",
   "execution_count": null,
   "metadata": {
    "id": "67eThAk9bnek"
   },
   "outputs": [],
   "source": [
    "_=fev.checkConstraints(new_coords,100)"
   ]
  },
  {
   "cell_type": "code",
   "execution_count": null,
   "metadata": {
    "id": "mnCSJG21uRHE"
   },
   "outputs": [],
   "source": [
    "visualize(turb_coords,new_coords)"
   ]
  },
  {
   "cell_type": "markdown",
   "metadata": {
    "id": "Ti2Y3QttbkhL"
   },
   "source": [
    "###Saving Output for Submission"
   ]
  },
  {
   "cell_type": "code",
   "execution_count": null,
   "metadata": {
    "colab": {
     "base_uri": "https://localhost:8080/",
     "height": 206
    },
    "executionInfo": {
     "elapsed": 1313,
     "status": "ok",
     "timestamp": 1603181853583,
     "user": {
      "displayName": "Giwil Gidwani",
      "photoUrl": "https://lh4.googleusercontent.com/-gE2Wv_aoAmY/AAAAAAAAAAI/AAAAAAAAWek/BgtsdEEAtxg/s64/photo.jpg",
      "userId": "01860341906430262736"
     },
     "user_tz": -330
    },
    "id": "YivVAsbYa_fA",
    "outputId": "9ef8734b-1fd4-4516-a850-4ccfd96ab43c"
   },
   "outputs": [
    {
     "data": {
      "text/html": [
       "<div>\n",
       "<style scoped>\n",
       "    .dataframe tbody tr th:only-of-type {\n",
       "        vertical-align: middle;\n",
       "    }\n",
       "\n",
       "    .dataframe tbody tr th {\n",
       "        vertical-align: top;\n",
       "    }\n",
       "\n",
       "    .dataframe thead th {\n",
       "        text-align: right;\n",
       "    }\n",
       "</style>\n",
       "<table border=\"1\" class=\"dataframe\">\n",
       "  <thead>\n",
       "    <tr style=\"text-align: right;\">\n",
       "      <th></th>\n",
       "      <th>x</th>\n",
       "      <th>y</th>\n",
       "    </tr>\n",
       "  </thead>\n",
       "  <tbody>\n",
       "    <tr>\n",
       "      <th>0</th>\n",
       "      <td>3928.361328</td>\n",
       "      <td>50.445068</td>\n",
       "    </tr>\n",
       "    <tr>\n",
       "      <th>1</th>\n",
       "      <td>3384.406738</td>\n",
       "      <td>2570.833008</td>\n",
       "    </tr>\n",
       "    <tr>\n",
       "      <th>2</th>\n",
       "      <td>52.742676</td>\n",
       "      <td>50.730957</td>\n",
       "    </tr>\n",
       "    <tr>\n",
       "      <th>3</th>\n",
       "      <td>2033.829102</td>\n",
       "      <td>1128.719971</td>\n",
       "    </tr>\n",
       "    <tr>\n",
       "      <th>4</th>\n",
       "      <td>61.678467</td>\n",
       "      <td>989.684082</td>\n",
       "    </tr>\n",
       "  </tbody>\n",
       "</table>\n",
       "</div>"
      ],
      "text/plain": [
       "             x            y\n",
       "0  3928.361328    50.445068\n",
       "1  3384.406738  2570.833008\n",
       "2    52.742676    50.730957\n",
       "3  2033.829102  1128.719971\n",
       "4    61.678467   989.684082"
      ]
     },
     "execution_count": 31,
     "metadata": {
      "tags": []
     },
     "output_type": "execute_result"
    }
   ],
   "source": [
    "df_v11 = pd.DataFrame(data=new_coords,columns=['x','y'])\n",
    "df_v11.head()"
   ]
  },
  {
   "cell_type": "code",
   "execution_count": null,
   "metadata": {
    "id": "dVWUmOHycq-1"
   },
   "outputs": [],
   "source": [
    "df_v11.to_csv('submission_v11.csv',index=False)"
   ]
  },
  {
   "cell_type": "code",
   "execution_count": null,
   "metadata": {
    "id": "Mi_wkLBUwDI7"
   },
   "outputs": [],
   "source": []
  }
 ],
 "metadata": {
  "colab": {
   "collapsed_sections": [],
   "name": "shell.ai_pattern_search_optimization_v2.ipynb",
   "provenance": [
    {
     "file_id": "1GimXZQIk3EUyLY1HgfPSVAjmXYz32KK5",
     "timestamp": 1603118950097
    },
    {
     "file_id": "1GdjK5aGgXD4WY77FCJVY8ju8ogAFUM80",
     "timestamp": 1603021835061
    },
    {
     "file_id": "1NYsmqcuNh2BLNTKnET9Hz31fRrL3g_mm",
     "timestamp": 1602957559848
    }
   ]
  },
  "kernelspec": {
   "display_name": "Python 3",
   "language": "python",
   "name": "python3"
  },
  "language_info": {
   "codemirror_mode": {
    "name": "ipython",
    "version": 3
   },
   "file_extension": ".py",
   "mimetype": "text/x-python",
   "name": "python",
   "nbconvert_exporter": "python",
   "pygments_lexer": "ipython3",
   "version": "3.8.3"
  }
 },
 "nbformat": 4,
 "nbformat_minor": 1
}
